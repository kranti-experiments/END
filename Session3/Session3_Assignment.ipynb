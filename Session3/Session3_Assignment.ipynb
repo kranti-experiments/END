{
 "cells": [
  {
   "cell_type": "code",
   "execution_count": 1,
   "metadata": {},
   "outputs": [],
   "source": [
    "#Imports\n",
    "import random\n",
    "import numpy as np"
   ]
  },
  {
   "cell_type": "markdown",
   "metadata": {},
   "source": [
    "### Generating Next Fibonacci Number"
   ]
  },
  {
   "cell_type": "code",
   "execution_count": 2,
   "metadata": {},
   "outputs": [],
   "source": [
    "def next_fib_num():\n",
    "    a = 1\n",
    "    b = 1\n",
    "    def inner():\n",
    "        nonlocal a, b\n",
    "        c = a + b\n",
    "        a = b\n",
    "        b = c\n",
    "        return c\n",
    "    return inner\n",
    "\n",
    "def get_fib_number_list(num =10000):\n",
    "    f1 = next_fib_num()\n",
    "    fib_list = [f1() for _ in range(10000)]\n",
    "    return fib_list"
   ]
  },
  {
   "cell_type": "code",
   "execution_count": 3,
   "metadata": {},
   "outputs": [
    {
     "data": {
      "text/plain": [
       "[2, 3, 5, 8, 13]"
      ]
     },
     "execution_count": 3,
     "metadata": {},
     "output_type": "execute_result"
    }
   ],
   "source": [
    "fib_list = get_fib_number_list()\n",
    "fib_list[:5]"
   ]
  },
  {
   "cell_type": "code",
   "execution_count": 4,
   "metadata": {},
   "outputs": [
    {
     "data": {
      "text/plain": [
       "10000"
      ]
     },
     "execution_count": 4,
     "metadata": {},
     "output_type": "execute_result"
    }
   ],
   "source": [
    "len(fib_list)"
   ]
  },
  {
   "cell_type": "markdown",
   "metadata": {},
   "source": [
    "### Check if a number is fibonacci number or not using list, filter, lambda"
   ]
  },
  {
   "cell_type": "code",
   "execution_count": 5,
   "metadata": {},
   "outputs": [],
   "source": [
    "#Function using lambda\n",
    "def isFibonacci(num):\n",
    "    fib_lambda = (lambda x1: x1 in fib_list)\n",
    "    return fib_lambda(num)"
   ]
  },
  {
   "cell_type": "code",
   "execution_count": 6,
   "metadata": {},
   "outputs": [],
   "source": [
    "def list_filter_lambda_fibonacci_check(num, fib_precal = fib_list):\n",
    "    #filter uses the above defined lambda function and returns true or false based on the list length\n",
    "    return len(list(filter(isFibonacci, [num]))) > 0"
   ]
  },
  {
   "cell_type": "code",
   "execution_count": 7,
   "metadata": {},
   "outputs": [
    {
     "name": "stdout",
     "output_type": "stream",
     "text": [
      "12 (isFibonacci) False\n",
      "9 (isFibonacci) False\n",
      "15 (isFibonacci) False\n",
      "6 (isFibonacci) False\n",
      "14 (isFibonacci) False\n",
      "3 (isFibonacci) True\n",
      "18 (isFibonacci) False\n",
      "8 (isFibonacci) True\n",
      "9 (isFibonacci) False\n",
      "17 (isFibonacci) False\n"
     ]
    }
   ],
   "source": [
    "#Testing 100 random numbers if they are fibonacci or not\n",
    "for _ in range(10):\n",
    "    num = random.randint(1,20)\n",
    "    print(num, \"(isFibonacci)\", list_filter_lambda_fibonacci_check(num))"
   ]
  },
  {
   "cell_type": "markdown",
   "metadata": {},
   "source": [
    "### List Comprehension"
   ]
  },
  {
   "cell_type": "code",
   "execution_count": 8,
   "metadata": {},
   "outputs": [],
   "source": [
    "def generate_random_integers_list(total_num=10, range_end=1000):\n",
    "    inp_list = []\n",
    "    for _ in range(total_num):\n",
    "        inp_list.append(random.randint(1,range_end))\n",
    "    return inp_list"
   ]
  },
  {
   "cell_type": "code",
   "execution_count": 9,
   "metadata": {},
   "outputs": [
    {
     "data": {
      "text/plain": [
       "([874, 475, 781, 348, 154, 834, 367, 330, 295, 94],\n",
       " [981, 678, 767, 868, 284, 341, 905, 573, 669, 517])"
      ]
     },
     "execution_count": 9,
     "metadata": {},
     "output_type": "execute_result"
    }
   ],
   "source": [
    "inp_list1 = generate_random_integers_list()\n",
    "inp_list2 = generate_random_integers_list()\n",
    "inp_list1[:10], inp_list2[:10]"
   ]
  },
  {
   "cell_type": "markdown",
   "metadata": {},
   "source": [
    "#### add 2 iterables a and b such that a is even and b is odd"
   ]
  },
  {
   "cell_type": "code",
   "execution_count": 10,
   "metadata": {},
   "outputs": [],
   "source": [
    "def add_iterables_even_odd(l1, l2):\n",
    "    if(type(l1) != list or type(l2) != list):\n",
    "        raise ValueError(f'[{l1} {l2}] are of not list type - Type not supported')     \n",
    "    return [a+b for a, b in zip(l1, l2) if a%2 == 0 and b%2 != 0]"
   ]
  },
  {
   "cell_type": "code",
   "execution_count": 11,
   "metadata": {},
   "outputs": [
    {
     "data": {
      "text/plain": [
       "[1855, 1175, 903, 611]"
      ]
     },
     "execution_count": 11,
     "metadata": {},
     "output_type": "execute_result"
    }
   ],
   "source": [
    "#Even number in inp_list1 = 874, 348, 154, 834, 330, 94\n",
    "#Odd number in inp_list2 = 981, 767, 341, 905, 573, 669, 517\n",
    "#Matching even and odd pairs: (874, 981) (834, 341) (330, 573) (94, 517)\n",
    "#Calculated sum should be: [1855, 1175, 903, 611]\n",
    "add_iterables_even_odd(inp_list1, inp_list2)"
   ]
  },
  {
   "cell_type": "markdown",
   "metadata": {},
   "source": [
    "#### strips every vowel from a string provided (tsai>>t s)"
   ]
  },
  {
   "cell_type": "code",
   "execution_count": 12,
   "metadata": {},
   "outputs": [],
   "source": [
    "##strips every vowel from a string provided (tsai>>t s)\n",
    "def strip_vowels(text):\n",
    "    if(type(text) != str):\n",
    "        raise ValueError(f'[{text}] is of not str type - Type not supported')\n",
    "    vowels = ['a', 'e', 'i', 'o', 'u']\n",
    "    f1 = [c for c in text if c not in vowels]\n",
    "    return  \"\".join(f1)"
   ]
  },
  {
   "cell_type": "code",
   "execution_count": 13,
   "metadata": {},
   "outputs": [
    {
     "name": "stdout",
     "output_type": "stream",
     "text": [
      "Before Stripping \t After Stripping\n",
      "------------------------------------\n",
      "tsai \t\t\t ts\n",
      "python \t\t\t pythn\n",
      "end \t\t\t nd\n",
      "nlp \t\t\t nlp\n"
     ]
    }
   ],
   "source": [
    "test_strip = ['tsai', 'python', 'end', 'nlp']\n",
    "print(\"Before Stripping \\t\", \"After Stripping\")\n",
    "print('------------------------------------')\n",
    "for test in test_strip:\n",
    "    print(test, \"\\t\\t\\t\", strip_vowels(test))"
   ]
  },
  {
   "cell_type": "markdown",
   "metadata": {},
   "source": [
    "#### acts like a ReLU function for a 1D array"
   ]
  },
  {
   "cell_type": "code",
   "execution_count": 14,
   "metadata": {},
   "outputs": [
    {
     "data": {
      "text/plain": [
       "[0.3373, 0.0101, -0.1856, -0.115, -0.7647]"
      ]
     },
     "execution_count": 14,
     "metadata": {},
     "output_type": "execute_result"
    }
   ],
   "source": [
    "def generate_random_list(num=100, round_off=4):\n",
    "    inp_list = []\n",
    "    for _ in range(num):\n",
    "        inp_list.append(round(random.uniform(-1,1), round_off))\n",
    "    return inp_list\n",
    "\n",
    "inp_list = generate_random_list()\n",
    "inp_list[:5]"
   ]
  },
  {
   "cell_type": "code",
   "execution_count": 15,
   "metadata": {},
   "outputs": [],
   "source": [
    "def check_relu(inp_list):\n",
    "    if(type(inp_list) != list):\n",
    "        raise ValueError(f'[{text}] is of not list type - Type not supported')    \n",
    "    return [max(0,x) for x in inp_list]"
   ]
  },
  {
   "cell_type": "code",
   "execution_count": 16,
   "metadata": {},
   "outputs": [
    {
     "data": {
      "text/plain": [
       "[0.3373, 0.0101, 0, 0, 0]"
      ]
     },
     "execution_count": 16,
     "metadata": {},
     "output_type": "execute_result"
    }
   ],
   "source": [
    "after_relu = check_relu(inp_list)\n",
    "after_relu[:5]"
   ]
  },
  {
   "cell_type": "markdown",
   "metadata": {},
   "source": [
    "#### acts like a sigmoid function for a 1D array"
   ]
  },
  {
   "cell_type": "code",
   "execution_count": 17,
   "metadata": {},
   "outputs": [],
   "source": [
    "def check_sigmoid(inp_list, round_off = 4):\n",
    "    if(type(inp_list) != list):\n",
    "        raise ValueError(f'[{inp_list}] is of not list type - Type not supported')  \n",
    "    return [round(1/(1 + np.exp(-x)), round_off) for x in inp_list ]"
   ]
  },
  {
   "cell_type": "code",
   "execution_count": 18,
   "metadata": {},
   "outputs": [
    {
     "data": {
      "text/plain": [
       "[0.5835, 0.5025, 0.4537, 0.4713, 0.3176]"
      ]
     },
     "execution_count": 18,
     "metadata": {},
     "output_type": "execute_result"
    }
   ],
   "source": [
    "after_sigmoid = check_sigmoid(inp_list)\n",
    "after_sigmoid[:5]"
   ]
  },
  {
   "cell_type": "markdown",
   "metadata": {},
   "source": [
    "#### takes a small character string and shifts all characters by 5 (handle boundary conditions) tsai>>yxfn"
   ]
  },
  {
   "cell_type": "code",
   "execution_count": 19,
   "metadata": {},
   "outputs": [],
   "source": [
    "##takes a small character string and shifts all characters by 5 (handle boundary conditions) tsai>>yxfn\n",
    "def shift_chars(text):\n",
    "    if(type(text) != str):\n",
    "        raise ValueError(f'[{text}] is of not str type - Type not supported')    \n",
    "    shift_text = [chr(ord(c)+5) if ord(c.lower())+5 <= ord('z') else chr(ord(c.lower())+5-26) for c in text]\n",
    "    return \"\".join(shift_text)"
   ]
  },
  {
   "cell_type": "code",
   "execution_count": 20,
   "metadata": {},
   "outputs": [
    {
     "name": "stdout",
     "output_type": "stream",
     "text": [
      "Before Shifting \t After Shifting\n",
      "------------------------------------\n",
      "tsai \t\t\t yxfn\n",
      "xyz \t\t\t cde\n",
      "abcd \t\t\t fghi\n",
      "nlp \t\t\t squ\n",
      "end \t\t\t jsi\n",
      "TSAI \t\t\t YXFN\n"
     ]
    }
   ],
   "source": [
    "test_strip = ['tsai', 'xyz', 'abcd', 'nlp', 'end', 'TSAI']\n",
    "print(\"Before Shifting \\t\", \"After Shifting\")\n",
    "print('------------------------------------')\n",
    "for test in test_strip:\n",
    "    print(test, \"\\t\\t\\t\", shift_chars(test))"
   ]
  },
  {
   "cell_type": "markdown",
   "metadata": {},
   "source": [
    "#### A list comprehension expression that takes a ~200 word paragraph (write your own paragraph to check), and checks whether it has any of the swear words mentioned in https://github.com/RobertJGabriel/Google-profanity-words/blob/master/list.txt"
   ]
  },
  {
   "cell_type": "code",
   "execution_count": 21,
   "metadata": {},
   "outputs": [],
   "source": [
    "#Reading Swear Words from the file and populating into list\n",
    "def read_swear_words(file='swear_words_list.txt'):\n",
    "    with open(file) as swear_file:\n",
    "        return swear_file.readlines()"
   ]
  },
  {
   "cell_type": "code",
   "execution_count": 22,
   "metadata": {},
   "outputs": [
    {
     "data": {
      "text/plain": [
       "['4r5e\\n', '5h1t\\n', '5hit\\n', 'a55\\n', 'anal\\n']"
      ]
     },
     "execution_count": 22,
     "metadata": {},
     "output_type": "execute_result"
    }
   ],
   "source": [
    "#Checking the swear words\n",
    "swear_list = read_swear_words()\n",
    "swear_list[:5]"
   ]
  },
  {
   "cell_type": "code",
   "execution_count": 23,
   "metadata": {},
   "outputs": [
    {
     "data": {
      "text/plain": [
       "['4r5e', '5h1t', '5hit', 'a55', 'anal']"
      ]
     },
     "execution_count": 23,
     "metadata": {},
     "output_type": "execute_result"
    }
   ],
   "source": [
    "#Removing newline character from each element\n",
    "swear_list = [word.strip() for word in swear_list]\n",
    "swear_list[:5]"
   ]
  },
  {
   "cell_type": "code",
   "execution_count": 24,
   "metadata": {},
   "outputs": [],
   "source": [
    "swear_text1 = \"But while I was sitting down, I saw something that drove me crazy. \\\n",
    "                Somebody’d written Fuck you on the wall. It drove me damn near crazy. \\\n",
    "                I thought how Phoebe and all the other little kids would see it, \\\n",
    "                and how they’d wonder what the hell it meant, and then finally some dirty kid \\\n",
    "                would tell them—all cockeyed, naturally—what it meant, and how they’d all think \\\n",
    "                about it and maybe even worry about it for a couple of days. I kept wanting to \\\n",
    "                kill whoever’d written it. I figured it was some perverty bum that’d sneaked in \\\n",
    "                the school late at night to take a leak or something and then wrote it on the wall. \\\n",
    "                I kept picturing myself catching him at it, and how I’d smash his head on the stone \\\n",
    "                steps till he was good and goddam dead and bloody. But I knew, too, I wouldn’t have \\\n",
    "                the guts to do it. I knew that. That made me even more depressed.\""
   ]
  },
  {
   "cell_type": "code",
   "execution_count": 25,
   "metadata": {},
   "outputs": [],
   "source": [
    "def remove_swear_words(inp_text, swear_words = swear_list):\n",
    "    clean_text = [word for word in inp_text.split() if word.lower() not in swear_words ]\n",
    "    return \" \".join(clean_text)"
   ]
  },
  {
   "cell_type": "code",
   "execution_count": 26,
   "metadata": {},
   "outputs": [
    {
     "name": "stdout",
     "output_type": "stream",
     "text": [
      "But while I was sitting down, I saw something that drove me crazy. Somebody’d written you on the wall. It drove me near crazy. I thought how Phoebe and all the other little kids would see it, and how they’d wonder what the it meant, and then finally some dirty kid would tell them—all cockeyed, naturally—what it meant, and how they’d all think about it and maybe even worry about it for a couple of days. I kept wanting to kill whoever’d written it. I figured it was some perverty that’d sneaked in the school late at night to take a leak or something and then wrote it on the wall. I kept picturing myself catching him at it, and how I’d smash his head on the stone steps till he was good and goddam dead and bloody. But I knew, too, I wouldn’t have the guts to do it. I knew that. That made me even more depressed. \n",
      "\n",
      "Removed [179] swear words\n"
     ]
    }
   ],
   "source": [
    "clean_text = remove_swear_words(swear_text1)\n",
    "print(clean_text, \"\\n\")\n",
    "print(f\"Removed [{(len(swear_text1) - len(clean_text))}] swear words\")"
   ]
  },
  {
   "cell_type": "markdown",
   "metadata": {},
   "source": [
    "### Using reduce functions"
   ]
  },
  {
   "cell_type": "code",
   "execution_count": 27,
   "metadata": {},
   "outputs": [],
   "source": [
    "from functools import reduce"
   ]
  },
  {
   "cell_type": "markdown",
   "metadata": {},
   "source": [
    "#### add only even numbers in a list"
   ]
  },
  {
   "cell_type": "code",
   "execution_count": 28,
   "metadata": {},
   "outputs": [
    {
     "data": {
      "text/plain": [
       "[4, 7, 5, 10, 5]"
      ]
     },
     "execution_count": 28,
     "metadata": {},
     "output_type": "execute_result"
    }
   ],
   "source": [
    "inp_list3 = generate_random_integers_list(5, 10)\n",
    "inp_list3"
   ]
  },
  {
   "cell_type": "code",
   "execution_count": 29,
   "metadata": {},
   "outputs": [],
   "source": [
    "def reduce_add_even_numbers(inp_list):\n",
    "    if(type(inp_list) != list):\n",
    "        raise ValueError(f'[{inp_list}] is of not list type - Type not supported')      \n",
    "    return reduce(lambda x1, x2: x1+x2 if not x2%2 else x1, inp_list3, 0)"
   ]
  },
  {
   "cell_type": "code",
   "execution_count": 30,
   "metadata": {},
   "outputs": [
    {
     "data": {
      "text/plain": [
       "14"
      ]
     },
     "execution_count": 30,
     "metadata": {},
     "output_type": "execute_result"
    }
   ],
   "source": [
    "#From the above list, should add 4+10 = 14\n",
    "reduce_add_even_numbers(inp_list3)"
   ]
  },
  {
   "cell_type": "markdown",
   "metadata": {},
   "source": [
    "#### find the biggest character in a string (printable ascii characters)"
   ]
  },
  {
   "cell_type": "code",
   "execution_count": 31,
   "metadata": {},
   "outputs": [],
   "source": [
    "def reduce_find_biggest_character(text):\n",
    "    if(type(text) != str):\n",
    "        raise ValueError(f'[{text}] is of not str type - Type not supported')      \n",
    "    return reduce(lambda x1, x2: x1 if ord(x1) > ord(x2) else x2, text, ' ')"
   ]
  },
  {
   "cell_type": "code",
   "execution_count": 32,
   "metadata": {},
   "outputs": [
    {
     "name": "stdout",
     "output_type": "stream",
     "text": [
      "Input Word \t Biggest Character\n",
      "------------------------------------\n",
      "tsai \t\t\t t\n",
      "xyz \t\t\t z\n",
      "abcd \t\t\t d\n",
      "nlp \t\t\t p\n",
      "end \t\t\t n\n",
      "TSAI \t\t\t T\n"
     ]
    }
   ],
   "source": [
    "test_strip = ['tsai', 'xyz', 'abcd', 'nlp', 'end', 'TSAI']\n",
    "print(\"Input Word \\t\", \"Biggest Character\")\n",
    "print('------------------------------------')\n",
    "for test in test_strip:\n",
    "    print(test, \"\\t\\t\\t\", reduce_find_biggest_character(test))"
   ]
  },
  {
   "cell_type": "markdown",
   "metadata": {},
   "source": [
    "#### adds every 3rd number in a list"
   ]
  },
  {
   "cell_type": "code",
   "execution_count": 33,
   "metadata": {},
   "outputs": [],
   "source": [
    "def reduce_add_every_third_number(inp_list):\n",
    "    if(type(inp_list) != list):\n",
    "        raise ValueError(f'[{inp_list}] is of not list type - Type not supported')      \n",
    "    return reduce( (lambda num1, num2: num1+num2), [num for index, num in enumerate(inp_list4) if index%3 == 0], 0)"
   ]
  },
  {
   "cell_type": "code",
   "execution_count": 34,
   "metadata": {},
   "outputs": [
    {
     "data": {
      "text/plain": [
       "[1, 20, 16, 12, 10, 4, 3, 7, 2, 1]"
      ]
     },
     "execution_count": 34,
     "metadata": {},
     "output_type": "execute_result"
    }
   ],
   "source": [
    "#Generating random numbers\n",
    "inp_list4 = generate_random_integers_list(10, 20)\n",
    "inp_list4[:10]"
   ]
  },
  {
   "cell_type": "code",
   "execution_count": 35,
   "metadata": {},
   "outputs": [
    {
     "data": {
      "text/plain": [
       "17"
      ]
     },
     "execution_count": 35,
     "metadata": {},
     "output_type": "execute_result"
    }
   ],
   "source": [
    "#From the above list, every 3rd number is: 1, 12, 3, 1 -> Sum = 17\n",
    "reduce( (lambda num1, num2: num1+num2), [num for index, num in enumerate(inp_list4) if index%3 == 0], 0)"
   ]
  },
  {
   "cell_type": "code",
   "execution_count": 57,
   "metadata": {},
   "outputs": [
    {
     "data": {
      "text/plain": [
       "'UC27'"
      ]
     },
     "execution_count": 57,
     "metadata": {},
     "output_type": "execute_result"
    }
   ],
   "source": [
    "cap_alpha = [chr(x) for x in range(65,91)]\n",
    "\"\".join(random.choices(cap_alpha, k = 2)) + str(random.randint(10, 99))"
   ]
  },
  {
   "cell_type": "markdown",
   "metadata": {},
   "source": [
    "#### Using randint, random.choice and list comprehensions, write an expression that generates 15 random KADDAADDDD number plates, where KA is fixed, D stands for a digit, and A stands for Capital alphabets. 10<<DD<<99 & 1000<<DDDD<<9999"
   ]
  },
  {
   "cell_type": "code",
   "execution_count": 59,
   "metadata": {},
   "outputs": [],
   "source": [
    "def gen_number_plates(num_plates = 15):\n",
    "    state = \"KA\"\n",
    "    cap_alpha = [chr(x) for x in range(65,91)]\n",
    "    return [state+str(random.randint(10, 99))+\"\".join(random.choices(cap_alpha, k = 2))+str(random.randint(1000, 9999)) for _ in range(num_plates)]    "
   ]
  },
  {
   "cell_type": "code",
   "execution_count": 60,
   "metadata": {},
   "outputs": [
    {
     "data": {
      "text/plain": [
       "['KA61HI8011',\n",
       " 'KA43IU4544',\n",
       " 'KA12DL6913',\n",
       " 'KA68EZ1465',\n",
       " 'KA53GN4748',\n",
       " 'KA73KP6241',\n",
       " 'KA32MJ9484',\n",
       " 'KA10CC9043',\n",
       " 'KA62GN3998',\n",
       " 'KA75RR5560',\n",
       " 'KA34AR5831',\n",
       " 'KA90AM4403',\n",
       " 'KA24ML9423',\n",
       " 'KA29WS1784',\n",
       " 'KA79YH7098']"
      ]
     },
     "execution_count": 60,
     "metadata": {},
     "output_type": "execute_result"
    }
   ],
   "source": [
    "gen_number_plates()"
   ]
  },
  {
   "cell_type": "markdown",
   "metadata": {},
   "source": [
    "#### Write the above again from scratch where KA can be changed to DL, and 1000/9999 ranges can be provided"
   ]
  },
  {
   "cell_type": "code",
   "execution_count": 67,
   "metadata": {},
   "outputs": [],
   "source": [
    "def gen_number_plates_flexi(state = \"KA\", num_plates = 15, dddd_start=1000, dddd_end=9999):\n",
    "    if(type(state) != str):\n",
    "        raise ValueError(f'state = [{state}] must be str, Input Type not supported')\n",
    "    if( dddd_end < dddd_start):\n",
    "        raise ValueError(f'dddd_end [{dddd_end}] must be > dddd_start[{dddd_start}] Input values not supported')\n",
    "    if(dddd_start > 9999 or dddd_end > 9999):\n",
    "        raise ValueError(f'dddd_start [{dddd_start}] and dddd_end [{dddd_end}] can support 4 digit numbers only. Please input ranges in between (1000, 9999)')\n",
    "    cap_alpha = [chr(x) for x in range(65,91)]\n",
    "    return [state+str(random.randint(10, 99))+\"\".join(random.choices(cap_alpha, k=2))+str(random.randint(dddd_start, dddd_end)) for _ in range(num_plates)]    "
   ]
  },
  {
   "cell_type": "markdown",
   "metadata": {},
   "source": [
    "##### Generating number plates with default values of state as KA"
   ]
  },
  {
   "cell_type": "code",
   "execution_count": 68,
   "metadata": {},
   "outputs": [
    {
     "data": {
      "text/plain": [
       "['KA54SB6995',\n",
       " 'KA66HY5316',\n",
       " 'KA46XD5737',\n",
       " 'KA61EA7674',\n",
       " 'KA34VH4066',\n",
       " 'KA88EJ6296',\n",
       " 'KA46FK6111',\n",
       " 'KA29FB5649',\n",
       " 'KA60FL1316',\n",
       " 'KA73YE7117',\n",
       " 'KA43PJ1342',\n",
       " 'KA54KE1560',\n",
       " 'KA85BJ4049',\n",
       " 'KA48QG6156',\n",
       " 'KA68MG3198']"
      ]
     },
     "execution_count": 68,
     "metadata": {},
     "output_type": "execute_result"
    }
   ],
   "source": [
    "gen_number_plates_flexi()"
   ]
  },
  {
   "cell_type": "markdown",
   "metadata": {},
   "source": [
    "##### Generating number plates with changed values for state as DL"
   ]
  },
  {
   "cell_type": "code",
   "execution_count": 69,
   "metadata": {},
   "outputs": [
    {
     "data": {
      "text/plain": [
       "['DL17TJ8897',\n",
       " 'DL13ON1662',\n",
       " 'DL60HJ6356',\n",
       " 'DL97IK7923',\n",
       " 'DL75DJ9308',\n",
       " 'DL45QX5856',\n",
       " 'DL88JS2156',\n",
       " 'DL95RD8869',\n",
       " 'DL68RF1943',\n",
       " 'DL95AP7442',\n",
       " 'DL84PB1767',\n",
       " 'DL36UT3366',\n",
       " 'DL19UQ2259',\n",
       " 'DL29JW5910',\n",
       " 'DL55YM8243']"
      ]
     },
     "execution_count": 69,
     "metadata": {},
     "output_type": "execute_result"
    }
   ],
   "source": [
    "gen_number_plates(\"DL\")"
   ]
  },
  {
   "cell_type": "markdown",
   "metadata": {},
   "source": [
    "##### Generating number plates with change in values for dddd ranges"
   ]
  },
  {
   "cell_type": "code",
   "execution_count": 70,
   "metadata": {},
   "outputs": [
    {
     "data": {
      "text/plain": [
       "['KA27TY8290',\n",
       " 'KA29ZE8252',\n",
       " 'KA29BO9117',\n",
       " 'KA43YL9570',\n",
       " 'KA30VI8057',\n",
       " 'KA23EI9053',\n",
       " 'KA43CJ8218',\n",
       " 'KA95SL8083',\n",
       " 'KA36TF7924',\n",
       " 'KA71YY9500',\n",
       " 'KA48MM9633',\n",
       " 'KA92OH9709',\n",
       " 'KA85GM8463',\n",
       " 'KA73OC9316',\n",
       " 'KA81PN9374']"
      ]
     },
     "execution_count": 70,
     "metadata": {},
     "output_type": "execute_result"
    }
   ],
   "source": [
    "gen_number_plates(dddd_start=7869, dddd_end=9898)"
   ]
  },
  {
   "cell_type": "markdown",
   "metadata": {},
   "source": [
    "##### Testing with invalid ranges"
   ]
  },
  {
   "cell_type": "code",
   "execution_count": 71,
   "metadata": {},
   "outputs": [
    {
     "name": "stdout",
     "output_type": "stream",
     "text": [
      "dddd_start [10000] and dddd_end [99999] can support 4 digit numbers only. Please input ranges in between (1000, 9999)\n"
     ]
    }
   ],
   "source": [
    "try:\n",
    "    gen_number_plates(dddd_start=10000, dddd_end=99999)\n",
    "except ValueError as e:\n",
    "    print(e)"
   ]
  },
  {
   "cell_type": "code",
   "execution_count": 72,
   "metadata": {},
   "outputs": [
    {
     "name": "stdout",
     "output_type": "stream",
     "text": [
      "dddd_end [9999] must be > dddd_start[10000] Input values not supported\n"
     ]
    }
   ],
   "source": [
    "try:\n",
    "    gen_number_plates(dddd_start=10000)\n",
    "except ValueError as e:\n",
    "    print(e)"
   ]
  },
  {
   "cell_type": "code",
   "execution_count": null,
   "metadata": {},
   "outputs": [],
   "source": []
  }
 ],
 "metadata": {
  "kernelspec": {
   "display_name": "Python 3",
   "language": "python",
   "name": "python3"
  },
  "language_info": {
   "codemirror_mode": {
    "name": "ipython",
    "version": 3
   },
   "file_extension": ".py",
   "mimetype": "text/x-python",
   "name": "python",
   "nbconvert_exporter": "python",
   "pygments_lexer": "ipython3",
   "version": "3.6.8"
  }
 },
 "nbformat": 4,
 "nbformat_minor": 2
}
